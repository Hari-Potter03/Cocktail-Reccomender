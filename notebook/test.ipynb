{
 "cells": [
  {
   "cell_type": "markdown",
   "id": "32695e4d",
   "metadata": {},
   "source": [
    "# Data Exploring"
   ]
  },
  {
   "cell_type": "code",
   "execution_count": 11,
   "id": "1449c5a0",
   "metadata": {},
   "outputs": [],
   "source": [
    "import pandas as pd\n",
    "import numpy as np\n",
    "import requests\n",
    "import string\n",
    "import time\n",
    "import pprint"
   ]
  },
  {
   "cell_type": "code",
   "execution_count": 9,
   "id": "acdb0068",
   "metadata": {},
   "outputs": [
    {
     "name": "stdout",
     "output_type": "stream",
     "text": [
      "HTTP 200\n",
      "18\n"
     ]
    }
   ],
   "source": [
    "import requests, pprint\n",
    "\n",
    "# Search by drink name (e.g., \"margarita\")\n",
    "url = \"https://www.thecocktaildb.com/api/json/v1/1/search.php\"\n",
    "r = requests.get(url, params={\"f\": \"d\"}, timeout=20)\n",
    "r.raise_for_status()\n",
    "data = r.json()\n",
    "\n",
    "print(\"HTTP\", r.status_code)\n",
    "#pprint.pp(data[\"drinks\"])  # peek at the first result\n",
    "print(len(data[\"drinks\"]))"
   ]
  },
  {
   "cell_type": "code",
   "execution_count": 12,
   "id": "df6f5ca4",
   "metadata": {},
   "outputs": [
    {
     "name": "stdout",
     "output_type": "stream",
     "text": [
      "Unique drinks: 441\n"
     ]
    }
   ],
   "source": [
    "URL = \"https://www.thecocktaildb.com/api/json/v1/1/search.php\"\n",
    "letters = list(string.ascii_lowercase) + list(string.digits)\n",
    "all_drinks = {}\n",
    "\n",
    "for ch in letters:\n",
    "    r = requests.get(URL, params={\"f\": ch}, timeout=20)\n",
    "    r.raise_for_status()\n",
    "    for d in (r.json().get(\"drinks\") or []):\n",
    "        all_drinks[d[\"idDrink\"]] = d  # dedupe by id\n",
    "    time.sleep(0.2)  # be polite\n",
    "\n",
    "print(\"Unique drinks:\", len(all_drinks))"
   ]
  },
  {
   "cell_type": "code",
   "execution_count": null,
   "id": "06d95646",
   "metadata": {},
   "outputs": [],
   "source": []
  }
 ],
 "metadata": {
  "kernelspec": {
   "display_name": "ML",
   "language": "python",
   "name": "python3"
  },
  "language_info": {
   "codemirror_mode": {
    "name": "ipython",
    "version": 3
   },
   "file_extension": ".py",
   "mimetype": "text/x-python",
   "name": "python",
   "nbconvert_exporter": "python",
   "pygments_lexer": "ipython3",
   "version": "3.12.7"
  }
 },
 "nbformat": 4,
 "nbformat_minor": 5
}
